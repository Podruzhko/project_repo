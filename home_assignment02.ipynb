{
  "nbformat": 4,
  "nbformat_minor": 0,
  "metadata": {
    "colab": {
      "name": "home_assignment02.ipynb",
      "provenance": [],
      "collapsed_sections": []
    },
    "kernelspec": {
      "name": "python3",
      "display_name": "Python 3"
    }
  },
  "cells": [
    {
      "cell_type": "markdown",
      "metadata": {
        "id": "_9j_aLkqSrBi"
      },
      "source": [
        "To generate random data in Python using a [random](https://pynative.com/python/random/) module "
      ]
    },
    {
      "cell_type": "code",
      "metadata": {
        "id": "xMl6GayDUCB4"
      },
      "source": [
        "import random\n",
        "import math"
      ],
      "execution_count": null,
      "outputs": []
    },
    {
      "cell_type": "markdown",
      "metadata": {
        "id": "QMlUzOq0oAI5"
      },
      "source": [
        "### Exercise 1\n",
        "You have a list a = [1, 1, 2, 3, 5, 6, 13, 21, 34, 55, 89].\n",
        "\n",
        "Print all even elements and sum."
      ]
    },
    {
      "cell_type": "code",
      "metadata": {
        "id": "rwJIfKOdnfGW",
        "colab": {
          "base_uri": "https://localhost:8080/"
        },
        "outputId": "ed545264-ad54-407c-87ec-d8162ad7642c"
      },
      "source": [
        "a = [1, 1, 2, 3, 5, 6, 13, 21, 34, 55, 89]\n",
        "\n",
        "print(\"Even elements are next:\")\n",
        "sum=0\n",
        "\n",
        "for i in a:\n",
        "  if i%2==0:\n",
        "    print(i)\n",
        "    sum = sum+i\n",
        "print(f\"There sum is {sum}\")\n"
      ],
      "execution_count": null,
      "outputs": [
        {
          "output_type": "stream",
          "name": "stdout",
          "text": [
            "Even elements are next:\n",
            "2\n",
            "6\n",
            "34\n",
            "There sum is 42\n"
          ]
        }
      ]
    },
    {
      "cell_type": "markdown",
      "metadata": {
        "id": "0PxuwdtZoB9-"
      },
      "source": [
        "### Exercise 2\n",
        "Print a list that consists of the common elements of the two lists."
      ]
    },
    {
      "cell_type": "code",
      "metadata": {
        "id": "9T9ue6_h-RA0",
        "colab": {
          "base_uri": "https://localhost:8080/"
        },
        "outputId": "7e282895-292f-4202-8abb-251937737e84"
      },
      "source": [
        "a = [1, 1, 2, 3, 5, 6, 13, 21, 34, 55, 89]\n",
        "b = [1, 2, 3, 4, 5, 6, 7, 8, 9, 10, 11, 12, 13]\n",
        "\n",
        "print(list(set(a).intersection(set(b))))"
      ],
      "execution_count": null,
      "outputs": [
        {
          "output_type": "stream",
          "name": "stdout",
          "text": [
            "[1, 2, 3, 5, 6, 13]\n"
          ]
        }
      ]
    },
    {
      "cell_type": "markdown",
      "metadata": {
        "id": "D-7vU_xMoGXW"
      },
      "source": [
        "### Exercise 3\n",
        "Print the first n lines of [Pascal's triangle](https://en.wikipedia.org/wiki/Pascal%27s_triangle). The view can be not formatted, that is, just print lines from Pascal's triangle."
      ]
    },
    {
      "cell_type": "code",
      "metadata": {
        "id": "ORxlMF5XoHaf",
        "colab": {
          "base_uri": "https://localhost:8080/"
        },
        "outputId": "018404e8-0b3f-49ae-9205-d1b7d70f1a3c"
      },
      "source": [
        "n = int(input('Enter the number of lines: '))\n",
        "\n",
        "line = [1]\n",
        "print(f\"Line 0: {line}\")\n",
        "for i in range(1, n+1):\n",
        "  newline = [1]\n",
        "  for i in range(len(line)-1):\n",
        "    newline.append(line[i]+line[i+1])\n",
        "  newline.append(1)\n",
        "  line = newline\n",
        "  print(f\"Line {i}: {line}\")"
      ],
      "execution_count": null,
      "outputs": [
        {
          "output_type": "stream",
          "name": "stdout",
          "text": [
            "Enter the number of lines: 0\n",
            "Line 0: [1]\n"
          ]
        }
      ]
    },
    {
      "cell_type": "markdown",
      "metadata": {
        "id": "LZFh27IYoH-M"
      },
      "source": [
        "### Exercise 4\n",
        "Check if the string is a palindrome."
      ]
    },
    {
      "cell_type": "code",
      "metadata": {
        "id": "dbmC6TJNTERJ",
        "colab": {
          "base_uri": "https://localhost:8080/"
        },
        "outputId": "26b67285-021f-436a-ae04-a080f223f10c"
      },
      "source": [
        "string = input('Enter the string: ')\n",
        "if string == string[::-1]:\n",
        "  print(\"YES! Its a palindrome!\")\n",
        "else:\n",
        "  print(\"No! Unfortunately, its not a palindrome\")"
      ],
      "execution_count": null,
      "outputs": [
        {
          "output_type": "stream",
          "name": "stdout",
          "text": [
            "Enter the string: abababa\n",
            "YES! Its a palindrome!\n"
          ]
        }
      ]
    },
    {
      "cell_type": "markdown",
      "metadata": {
        "id": "0dG5QsDnoJw4"
      },
      "source": [
        "### Exercise 5\n",
        "Convert seconds to days:hours:minutes:seconds (without using datetime)"
      ]
    },
    {
      "cell_type": "code",
      "metadata": {
        "id": "riZL3l86TJ2Z",
        "colab": {
          "base_uri": "https://localhost:8080/"
        },
        "outputId": "1ac1908f-f298-4402-ef1a-e856e20b40a3"
      },
      "source": [
        "seconds = int(input(\"Number of seconds: \"))\n",
        "print(f\"{seconds} seconds are {seconds // 3600} hours, {(seconds%3600)//60} minutes, {seconds%60} seconds\")"
      ],
      "execution_count": null,
      "outputs": [
        {
          "output_type": "stream",
          "name": "stdout",
          "text": [
            "Number of seconds: 3600\n",
            "3600 seconds are 1 hours, 0 minutes, 0 seconds\n"
          ]
        }
      ]
    },
    {
      "cell_type": "markdown",
      "metadata": {
        "id": "nBVW10zzoLN-"
      },
      "source": [
        "### Exercise 6\n",
        "You accept a comma-separated sequence of numbers from the user. Make a list and tuple of these numbers."
      ]
    },
    {
      "cell_type": "code",
      "metadata": {
        "id": "x--lqdQOoMSG",
        "colab": {
          "base_uri": "https://localhost:8080/"
        },
        "outputId": "00035f9f-4805-49c6-8426-6af1bafb89d2"
      },
      "source": [
        "sequence = input(\"Enter the sequence: \")\n",
        "# your code here\n",
        "l= list(map(int, sequence.split(\",\")))\n",
        "t= tuple(map(int, sequence.split(\",\")))\n",
        "print(f\"This is list: {l}\")\n",
        "print(f\"This is tuple: {t}\")"
      ],
      "execution_count": null,
      "outputs": [
        {
          "output_type": "stream",
          "name": "stdout",
          "text": [
            "Enter the sequence: 1,2,3\n",
            "This is list: [1, 2, 3]\n",
            "This is tuple: (1, 2, 3)\n"
          ]
        }
      ]
    },
    {
      "cell_type": "markdown",
      "metadata": {
        "id": "LX80ZS4VoMt_"
      },
      "source": [
        "### Exercise 7\n",
        "Print the first and last element of a list filled with N random integers."
      ]
    },
    {
      "cell_type": "code",
      "metadata": {
        "id": "O16WVyH2TfRO",
        "colab": {
          "base_uri": "https://localhost:8080/"
        },
        "outputId": "174d3307-f439-4526-96b6-b12d092aa6fe"
      },
      "source": [
        "N = int(input())\n",
        "\n",
        "from random import randint\n",
        "\n",
        "rand_list=[]\n",
        "for i in range(N):\n",
        "  rand_list.append(random.randint(-10**100, 10**100))\n",
        "print(f\"First element: {rand_list[0]} and last element: {rand_list[len(rand_list)-1]}\")"
      ],
      "execution_count": null,
      "outputs": [
        {
          "output_type": "stream",
          "name": "stdout",
          "text": [
            "5\n",
            "First element: 8358573219977855500614407128082229985519956470782051110727351660656404118333425200134649344219738927 and last element: 5842355471200170335909013848902515492885528816076390034220760362320370083278251902274959817371609025\n"
          ]
        }
      ]
    },
    {
      "cell_type": "markdown",
      "metadata": {
        "id": "RONwF247oOGw"
      },
      "source": [
        "### Exercise 8\n",
        "Print the file extension. If it cannot be determined, print \"no extension\"."
      ]
    },
    {
      "cell_type": "code",
      "metadata": {
        "id": "zXm-h5SlUPlF",
        "colab": {
          "base_uri": "https://localhost:8080/"
        },
        "outputId": "7409cbed-82be-4d71-fcf8-6d76e5b548fd"
      },
      "source": [
        "filename = input('File name: \\n')\n",
        "\n",
        "import os.path\n",
        "\n",
        "extension = os.path.splitext(filename)[1]\n",
        "if extension == \"\":\n",
        "  print('Oops, no extension :(')\n",
        "else:\n",
        "  print(f\"The extension of the file is: {extension}\")    "
      ],
      "execution_count": null,
      "outputs": [
        {
          "output_type": "stream",
          "name": "stdout",
          "text": [
            "File name: \n",
            "brgbb/rvrvtb/tbbe/brg\n",
            "Oops, no extension :(\n"
          ]
        }
      ]
    },
    {
      "cell_type": "markdown",
      "metadata": {
        "id": "Imewfx3UphZG"
      },
      "source": [
        "### Exercise 9\n",
        "Add up the digits of the given integer."
      ]
    },
    {
      "cell_type": "code",
      "metadata": {
        "id": "S0prYFkypjMD",
        "colab": {
          "base_uri": "https://localhost:8080/"
        },
        "outputId": "163fd66d-5495-4c92-da15-51d218bf6b4f"
      },
      "source": [
        "x = 12345\n",
        "sum=0\n",
        "for i in list(str(x)):\n",
        "  sum=sum+int(i)\n",
        "print(f\"Sum of digits is equal to {sum}\")\n"
      ],
      "execution_count": null,
      "outputs": [
        {
          "output_type": "stream",
          "name": "stdout",
          "text": [
            "Sum of digits is equal to 15\n"
          ]
        }
      ]
    },
    {
      "cell_type": "markdown",
      "metadata": {
        "id": "tx0wApZupk05"
      },
      "source": [
        "### Exercise 10\n",
        "Сreate two lists of size 20 containing random integers from the segment [0, 30], prints them to the screen and all elements of the first that are not in the second."
      ]
    },
    {
      "cell_type": "code",
      "metadata": {
        "id": "MkC_sLdRpoG7",
        "colab": {
          "base_uri": "https://localhost:8080/"
        },
        "outputId": "cd2da77f-c0de-41d4-9be8-52aef0c8bf9e"
      },
      "source": [
        "from random import randint\n",
        "\n",
        "lst1 = []\n",
        "lst2 = []\n",
        "\n",
        "for i in range(20):\n",
        "  lst1.append(randint(0,30))\n",
        "  lst2.append(randint(0,30))\n",
        "\n",
        "print(f\"List 1: {lst1}\")\n",
        "print(f\"List 2: {lst2}\")\n",
        "\n",
        "print(f\"All elements of the first that are not in the second: {list(set(lst1) - set(lst2))}\")"
      ],
      "execution_count": null,
      "outputs": [
        {
          "output_type": "stream",
          "name": "stdout",
          "text": [
            "List 1: [17, 30, 1, 24, 8, 21, 11, 15, 14, 24, 24, 29, 25, 2, 18, 21, 19, 11, 30, 13]\n",
            "List 2: [8, 16, 9, 23, 11, 20, 15, 26, 25, 24, 9, 1, 1, 6, 19, 29, 9, 18, 12, 5]\n",
            "All elements of the first that are not in the second: [2, 13, 14, 17, 21, 30]\n"
          ]
        }
      ]
    },
    {
      "cell_type": "markdown",
      "metadata": {
        "id": "PO9NF3IBpoxz"
      },
      "source": [
        "### Exercise 11\n",
        "Find the number of divisors of a given integer."
      ]
    },
    {
      "cell_type": "code",
      "metadata": {
        "id": "6pqgc99LprzC",
        "colab": {
          "base_uri": "https://localhost:8080/"
        },
        "outputId": "87d2abc6-5dce-4932-84d9-038900d57d0c"
      },
      "source": [
        "integer = int(input())\n",
        "\n",
        "num = 0\n",
        "for i in range(1, integer+1):\n",
        "  if integer % i == 0:\n",
        "    num = num + 1\n",
        "print(f\"The integer {integer} have {num} divisors\")\n"
      ],
      "execution_count": null,
      "outputs": [
        {
          "output_type": "stream",
          "name": "stdout",
          "text": [
            "10\n",
            "The integer 10 have 4 divisors\n"
          ]
        }
      ]
    },
    {
      "cell_type": "markdown",
      "metadata": {
        "id": "0lMCVueRpsae"
      },
      "source": [
        "### Exercise 12\n",
        "Count input letter in the input string."
      ]
    },
    {
      "cell_type": "code",
      "metadata": {
        "id": "u-x80kjLQIVg",
        "colab": {
          "base_uri": "https://localhost:8080/"
        },
        "outputId": "08bf32f8-17c4-4e8a-f2df-8d4958e499a4"
      },
      "source": [
        "string = input('string: ')\n",
        "letter = input('letter: ')\n",
        "\n",
        "print(f\"The string {string} iincludes {list(string).count(letter)} of letter {letter}.\")"
      ],
      "execution_count": null,
      "outputs": [
        {
          "output_type": "stream",
          "name": "stdout",
          "text": [
            "string: aaaaa\n",
            "letter: a\n",
            "The string aaaaa iincludes 5 of letter a.\n"
          ]
        }
      ]
    },
    {
      "cell_type": "markdown",
      "metadata": {
        "id": "FF0C3-cTp0uy"
      },
      "source": [
        "### Exercise 13\n",
        "Swap the values "
      ]
    },
    {
      "cell_type": "code",
      "metadata": {
        "id": "KRHJfO1dcwNr",
        "colab": {
          "base_uri": "https://localhost:8080/"
        },
        "outputId": "e5b6dc60-884a-42c2-d63d-43998c12416e"
      },
      "source": [
        "var1 = input()\n",
        "var2 = input()\n",
        "\n",
        "var1, var2 = var2, var1\n",
        "\n",
        "print(f\"var1 = {var1}\")\n",
        "print(f\"var2 = {var2}\")\n"
      ],
      "execution_count": null,
      "outputs": [
        {
          "output_type": "stream",
          "name": "stdout",
          "text": [
            "5\n",
            "4\n",
            "var1 = 4\n",
            "var2 = 5\n"
          ]
        }
      ]
    },
    {
      "cell_type": "markdown",
      "metadata": {
        "id": "I2x5B2_Np9kO"
      },
      "source": [
        "### Exercise 14\n",
        "You need to check if all the numbers in the sequence are unique. The sequence consists of integers entered from the keyboard. The end of the input is the `'#'` symbol."
      ]
    },
    {
      "cell_type": "code",
      "metadata": {
        "id": "gsiB8H61p_Bb",
        "colab": {
          "base_uri": "https://localhost:8080/"
        },
        "outputId": "256abeae-41a1-4603-9efa-68e5285feae0"
      },
      "source": [
        "# your code here\n",
        "l=[]\n",
        "while input() != \"#\":\n",
        "  l.append(input())\n",
        "#sequence = input()\n",
        "\n",
        "#l = list(sequence)\n",
        "s = set(l)\n",
        "if len(s)-1 == len(l)-1:\n",
        "  print(\"YES, all elements are unique!\")\n",
        "else:\n",
        "  print(\"NO, there are not unique :(\")"
      ],
      "execution_count": 1,
      "outputs": [
        {
          "output_type": "stream",
          "name": "stdout",
          "text": [
            "2\n",
            "3\n",
            "4\n",
            "5\n",
            "#\n",
            "YES, all elements are unique!\n"
          ]
        }
      ]
    },
    {
      "cell_type": "markdown",
      "metadata": {
        "id": "hiPumXgoZtPS"
      },
      "source": [
        "### Exercise 15\n",
        "\n",
        "Create two built-in frozenset objects from strings `'reversed question'` and `'answer'`, and try to make them keys in the dct dictionary for the strings `'? Tesnezorf dna tes neewteb ecnereffid niam eht si tahw'` and **`'<your answer to the question>'`**, respectively. There is no need to reverse the answer. Finally, print out the dct dictionary."
      ]
    },
    {
      "cell_type": "code",
      "metadata": {
        "id": "raWWJ0h_77_B",
        "colab": {
          "base_uri": "https://localhost:8080/"
        },
        "outputId": "b58673f3-7f1f-471b-ba38-f48bfa91ed44"
      },
      "source": [
        "obj1 = frozenset(['reversed question'])\n",
        "obj2 = frozenset(['answer'])\n",
        "str1 = '? Tesnezorf dna tes neewteb ecnereffid niam eht si tahw'\n",
        "str2 = 'Set is mutable and frozen set is not'\n",
        "dct = {}\n",
        "dct.update({obj1:str1})\n",
        "dct.update({obj2:str2})\n",
        "dct"
      ],
      "execution_count": null,
      "outputs": [
        {
          "output_type": "execute_result",
          "data": {
            "text/plain": [
              "{frozenset({'reversed question'}): '? Tesnezorf dna tes neewteb ecnereffid niam eht si tahw',\n",
              " frozenset({'answer'}): 'Set is mutable and frozen set is not'}"
            ]
          },
          "metadata": {},
          "execution_count": 1
        }
      ]
    },
    {
      "cell_type": "markdown",
      "metadata": {
        "id": "wIXXdtGdaMhF"
      },
      "source": [
        "### Exercise 16\n",
        "\n",
        "Find the area of a circle. You can use const `'pi'` from `'math'` module "
      ]
    },
    {
      "cell_type": "code",
      "metadata": {
        "id": "QGSPfMB-anqX",
        "colab": {
          "base_uri": "https://localhost:8080/"
        },
        "outputId": "864649be-9129-4658-acb5-a42023526974"
      },
      "source": [
        "r = float(input())\n",
        "\n",
        "import math\n",
        "\n",
        "print(f\"Area of the circle with radius {r} is equal to {math.pi * (r**2)}\")\n"
      ],
      "execution_count": null,
      "outputs": [
        {
          "output_type": "stream",
          "name": "stdout",
          "text": [
            "2\n",
            "Area of the circle with radius 2.0 is equal to 12.566370614359172\n"
          ]
        }
      ]
    },
    {
      "cell_type": "markdown",
      "metadata": {
        "id": "Dj3SgDdLahaZ"
      },
      "source": [
        "### Exercise 17\n",
        "\n",
        "Swap keys and values."
      ]
    },
    {
      "cell_type": "code",
      "metadata": {
        "id": "jVi685NrawKc",
        "colab": {
          "base_uri": "https://localhost:8080/"
        },
        "outputId": "5bab3250-7f69-4b83-9df3-2d9341a06f1d"
      },
      "source": [
        "dct = {x: x ** 2 for x in range(10)}\n",
        "dct\n",
        "dct2 = {}\n",
        "for i in range(len(dct)):\n",
        "  dct2.update({list(dct.values())[i]:list(dct.keys())[i]})\n",
        "dct2\n"
      ],
      "execution_count": null,
      "outputs": [
        {
          "output_type": "execute_result",
          "data": {
            "text/plain": [
              "{0: 0, 1: 1, 4: 2, 9: 3, 16: 4, 25: 5, 36: 6, 49: 7, 64: 8, 81: 9}"
            ]
          },
          "metadata": {},
          "execution_count": 1
        }
      ]
    },
    {
      "cell_type": "markdown",
      "metadata": {
        "id": "bSkROdzbbDPT"
      },
      "source": [
        "### Exercise 18\n",
        "\n",
        "Create a variable that stores the description of this task as a string, separate the words, and convert to LOWERCASE."
      ]
    },
    {
      "cell_type": "code",
      "metadata": {
        "id": "QLQuRJ5fbHyG",
        "colab": {
          "base_uri": "https://localhost:8080/"
        },
        "outputId": "3e9824b4-0741-4bef-b5e3-eb2c394ed967"
      },
      "source": [
        "#Didnt understand, what exactly you mean by \"separate the words\". So, I did the list of words in this sentence.\n",
        "s = 'Create a variable that stores the description of this task as a string, separate the words, and convert to LOWERCASE.'\n",
        "sentence_list = s.lower().split(\" \")\n",
        "print(sentence_list)\n"
      ],
      "execution_count": null,
      "outputs": [
        {
          "output_type": "stream",
          "name": "stdout",
          "text": [
            "['create', 'a', 'variable', 'that', 'stores', 'the', 'description', 'of', 'this', 'task', 'as', 'a', 'string,', 'separate', 'the', 'words,', 'and', 'convert', 'to', 'lowercase.']\n"
          ]
        }
      ]
    },
    {
      "cell_type": "markdown",
      "metadata": {
        "id": "xDwSLToobQIJ"
      },
      "source": [
        "### Exercise 19\n",
        "Print the sorted words from the previous exercise in reverse lexicographical order."
      ]
    },
    {
      "cell_type": "code",
      "metadata": {
        "id": "QqEMRS9NbST0",
        "colab": {
          "base_uri": "https://localhost:8080/"
        },
        "outputId": "bf22fddc-a63e-4977-e462-2195f7348cce"
      },
      "source": [
        "print(sorted(sentence_list)[::-1])"
      ],
      "execution_count": null,
      "outputs": [
        {
          "output_type": "stream",
          "name": "stdout",
          "text": [
            "['words,', 'variable', 'to', 'this', 'the', 'the', 'that', 'task', 'string,', 'stores', 'separate', 'of', 'lowercase.', 'description', 'create', 'convert', 'as', 'and', 'a', 'a']\n"
          ]
        }
      ]
    },
    {
      "cell_type": "markdown",
      "metadata": {
        "id": "rO-Amdrhbfc5"
      },
      "source": [
        "### Exercise 20\n",
        "\n",
        "Write code that reverses all odd-numbered elements of lst in reverse order.\n",
        "\n",
        "That is, if lst = [0, 1, 2, 3, 4, 5, 6, 7, 8, 9], then you should get [0, 9, 2, 7, 4, 5, 6, 3, 8, 1]"
      ]
    },
    {
      "cell_type": "code",
      "metadata": {
        "id": "e3SdQqGLbnI9"
      },
      "source": [
        "def rev_odd(l):\n",
        "  l1 = []\n",
        "  l2 = []\n",
        "  res = []\n",
        "  for i in range(len(l)):\n",
        "    if i%2==0:\n",
        "      l2.append(l[i])\n",
        "    else:\n",
        "      l1.append(l[i])\n",
        "  l12 = l1[::-1]\n",
        "  for i in range(len(l2)):\n",
        "    res.append(l2[i])\n",
        "    res.append(l12[i])\n",
        "  if len(l12)>len(l2):\n",
        "    res.append(l12[-1])\n",
        "  return res\n"
      ],
      "execution_count": null,
      "outputs": []
    },
    {
      "cell_type": "code",
      "metadata": {
        "id": "qEVippMMaAnW"
      },
      "source": [
        "lst = [0, 1, 2, 3, 4, 5, 6, 7, 8, 9]"
      ],
      "execution_count": null,
      "outputs": []
    },
    {
      "cell_type": "code",
      "metadata": {
        "colab": {
          "base_uri": "https://localhost:8080/"
        },
        "id": "Qq3YVqJ0aEw_",
        "outputId": "b67f6547-1f77-4bb7-debc-75d2bd268a01"
      },
      "source": [
        "rev_odd(lst)"
      ],
      "execution_count": null,
      "outputs": [
        {
          "output_type": "execute_result",
          "data": {
            "text/plain": [
              "[0, 9, 2, 7, 4, 5, 6, 3, 8, 1]"
            ]
          },
          "metadata": {},
          "execution_count": 26
        }
      ]
    },
    {
      "cell_type": "code",
      "metadata": {
        "id": "oy7xSgcRat8r"
      },
      "source": [
        "def rev_odd2(l):\n",
        "  l_ev = []\n",
        "  l_od = []\n",
        "  res = []\n",
        "  for i in (l):\n",
        "    if i%2==0:\n",
        "      l_ev.append(i)\n",
        "    else:\n",
        "      l_od.append(i)\n",
        "  l_od2 = l_od[::-1]\n",
        "  for i in (l):\n",
        "    if i%2==0:\n",
        "      res.append(l_ev[0])\n",
        "      l_ev.pop(0)\n",
        "    else:\n",
        "      res.append(l_od2[0])\n",
        "      l_od2.pop(0)\n",
        "  return res"
      ],
      "execution_count": null,
      "outputs": []
    },
    {
      "cell_type": "code",
      "metadata": {
        "colab": {
          "base_uri": "https://localhost:8080/"
        },
        "id": "dC9_4qskcMLS",
        "outputId": "28713823-46f2-4538-bbfd-28796603838a"
      },
      "source": [
        "rev_odd2(lst)"
      ],
      "execution_count": null,
      "outputs": [
        {
          "output_type": "execute_result",
          "data": {
            "text/plain": [
              "[0, 9, 2, 7, 4, 5, 6, 3, 8, 1]"
            ]
          },
          "metadata": {},
          "execution_count": 34
        }
      ]
    }
  ]
}