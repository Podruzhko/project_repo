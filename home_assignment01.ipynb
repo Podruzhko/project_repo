{
 "cells": [
  {
   "cell_type": "markdown",
   "id": "e2560892",
   "metadata": {},
   "source": [
    "### Home assignment 01.\n",
    "\n",
    "Your goal is to follow this notebook and complete all the steps.\n",
    "\n",
    "Please, solve all these excersises (both on python and bash) _using the remote machine_: either in jupyter notebook or using bash.\n",
    "\n",
    "We ask you to start with signing this notebook in the following cell and printing some tech information. Please, just run the second cell without any changes.\n",
    "\n",
    "Good luck!"
   ]
  },
  {
   "cell_type": "code",
   "execution_count": 1,
   "id": "00832e49",
   "metadata": {},
   "outputs": [],
   "source": [
    "first_name = 'Ekaterina'\n",
    "last_name = 'Podruzhko'"
   ]
  },
  {
   "cell_type": "code",
   "execution_count": 2,
   "id": "fe0b217b",
   "metadata": {},
   "outputs": [
    {
     "name": "stdout",
     "output_type": "stream",
     "text": [
      "['/home/ml32020/kate/hw1', '/home/ml32020/kate/miniconda3/lib/python39.zip', '/home/ml32020/kate/miniconda3/lib/python3.9', '/home/ml32020/kate/miniconda3/lib/python3.9/lib-dynload', '', '/home/ml32020/kate/miniconda3/lib/python3.9/site-packages', '/home/ml32020/kate/miniconda3/lib/python3.9/site-packages/IPython/extensions', '/home/ml32020/kate/.ipython']\n",
      "3.9.5 (default, Jun  4 2021, 12:28:51) \n",
      "[GCC 7.5.0]\n"
     ]
    }
   ],
   "source": [
    "import sys\n",
    "print(sys.path)\n",
    "print(sys.version)"
   ]
  },
  {
   "cell_type": "code",
   "execution_count": 5,
   "id": "6dfd53bf",
   "metadata": {},
   "outputs": [],
   "source": [
    "import numpy as np\n",
    "import matplotlib\n",
    "import matplotlib.pyplot as plt"
   ]
  },
  {
   "cell_type": "markdown",
   "id": "5846300b",
   "metadata": {},
   "source": [
    "#### Excersise 0\n",
    "Import `this` and read the zen of Python."
   ]
  },
  {
   "cell_type": "code",
   "execution_count": 6,
   "id": "a2db5c5e",
   "metadata": {},
   "outputs": [
    {
     "name": "stdout",
     "output_type": "stream",
     "text": [
      "The Zen of Python, by Tim Peters\n",
      "\n",
      "Beautiful is better than ugly.\n",
      "Explicit is better than implicit.\n",
      "Simple is better than complex.\n",
      "Complex is better than complicated.\n",
      "Flat is better than nested.\n",
      "Sparse is better than dense.\n",
      "Readability counts.\n",
      "Special cases aren't special enough to break the rules.\n",
      "Although practicality beats purity.\n",
      "Errors should never pass silently.\n",
      "Unless explicitly silenced.\n",
      "In the face of ambiguity, refuse the temptation to guess.\n",
      "There should be one-- and preferably only one --obvious way to do it.\n",
      "Although that way may not be obvious at first unless you're Dutch.\n",
      "Now is better than never.\n",
      "Although never is often better than *right* now.\n",
      "If the implementation is hard to explain, it's a bad idea.\n",
      "If the implementation is easy to explain, it may be a good idea.\n",
      "Namespaces are one honking great idea -- let's do more of those!\n"
     ]
    }
   ],
   "source": [
    "import this"
   ]
  },
  {
   "cell_type": "code",
   "execution_count": 7,
   "id": "edb0cd5d",
   "metadata": {},
   "outputs": [],
   "source": [
    "student_has_read_zen_of_python = True\n",
    "assert student_has_read_zen_of_python"
   ]
  },
  {
   "cell_type": "markdown",
   "id": "10927a1c",
   "metadata": {},
   "source": [
    "#### Excersise 1\n",
    "\n",
    "Read the docs on `isinstance` method and check whether the following objects belong to the proposed types (hint: `isinstance`).\n",
    "\n",
    "Additional excersise: visualize this correspondance matrix (object – type), e.g. using numpy and [pcolormesh](https://matplotlib.org/stable/api/_as_gen/matplotlib.pyplot.pcolormesh.html) for visualization."
   ]
  },
  {
   "cell_type": "code",
   "execution_count": 8,
   "id": "72f33707",
   "metadata": {},
   "outputs": [],
   "source": [
    "list_of_objects = [\n",
    "    int,\n",
    "    2,\n",
    "    2.,\n",
    "    None,\n",
    "    object,\n",
    "    str,\n",
    "    str(2.),\n",
    "    float('2.0'),\n",
    "    'hello',\n",
    "    this,\n",
    "    dict,\n",
    "    list,\n",
    "    [dict],\n",
    "    {1: []}\n",
    "]\n",
    "\n",
    "list_of_types = [\n",
    "    int,\n",
    "    float,\n",
    "    object,\n",
    "    #module,\n",
    "    str,\n",
    "    dict,\n",
    "    list\n",
    "]"
   ]
  },
  {
   "cell_type": "code",
   "execution_count": 9,
   "id": "195f9166",
   "metadata": {},
   "outputs": [],
   "source": [
    "result = np.array([[isinstance(list_of_objects[i], list_of_types[j]) for i in range(len(list_of_objects))] for j in range(len(list_of_types))])"
   ]
  },
  {
   "cell_type": "code",
   "execution_count": 10,
   "id": "dd8ac80a",
   "metadata": {},
   "outputs": [
    {
     "name": "stderr",
     "output_type": "stream",
     "text": [
      "/tmp/ipykernel_25224/2712503133.py:6: UserWarning: FixedFormatter should only be used together with FixedLocator\n",
      "  ax.set_xticklabels(list_of_objects)\n",
      "/tmp/ipykernel_25224/2712503133.py:7: UserWarning: FixedFormatter should only be used together with FixedLocator\n",
      "  ax.set_yticklabels(list_of_types)\n"
     ]
    },
    {
     "data": {
      "text/plain": [
       "[Text(0, 0.0, \"<class 'int'>\"),\n",
       " Text(0, 1.0, \"<class 'float'>\"),\n",
       " Text(0, 2.0, \"<class 'object'>\"),\n",
       " Text(0, 3.0, \"<class 'str'>\"),\n",
       " Text(0, 4.0, \"<class 'dict'>\"),\n",
       " Text(0, 5.0, \"<class 'list'>\"),\n",
       " Text(0, 6.0, '')]"
      ]
     },
     "execution_count": 10,
     "metadata": {},
     "output_type": "execute_result"
    },
    {
     "data": {
      "image/png": "[encoded data removed]",
      "text/plain": [
       "<Figure size 720x288 with 1 Axes>"
      ]
     },
     "metadata": {
      "needs_background": "light"
     },
     "output_type": "display_data"
    }
   ],
   "source": [
    "fig = plt.figure(figsize=(10,4))\n",
    "ax = fig.add_subplot(111)\n",
    "plt.pcolormesh(result)\n",
    "plt.xlabel('types')\n",
    "plt.ylabel('objects')\n",
    "ax.set_xticklabels(list_of_objects)\n",
    "ax.set_yticklabels(list_of_types)"
   ]
  },
  {
   "cell_type": "markdown",
   "id": "0eb6a16b",
   "metadata": {},
   "source": [
    "#### Excersise 2\n",
    "\n",
    "Set quotient and remainder of 89 divided by 11 to \"a\" and \"b\" variables *"
   ]
  },
  {
   "cell_type": "code",
   "execution_count": 11,
   "id": "523e83dd",
   "metadata": {},
   "outputs": [
    {
     "name": "stdout",
     "output_type": "stream",
     "text": [
      "89 : 11 = 8 (rem. 1)\n"
     ]
    }
   ],
   "source": [
    "a = 89//11\n",
    "b = 89%11\n",
    "print(f'89 : 11 = {a} (rem. {b})')"
   ]
  },
  {
   "cell_type": "markdown",
   "id": "c714d061",
   "metadata": {},
   "source": [
    "#### Excersise 3\n",
    "\n",
    "Calculate the next cells:\n",
    "```\n",
    "0) 10 ** 1000\n",
    "1) 1.0 / 10 ** 1000\n",
    "2) 1 / 10 ** 1000\n",
    "3) 10 ** 1000 / 1\n",
    "4) 1 / (1 / 10 ** 1000)\n",
    "```"
   ]
  },
  {
   "cell_type": "code",
   "execution_count": 12,
   "id": "2ab81bc6",
   "metadata": {},
   "outputs": [
    {
     "name": "stdout",
     "output_type": "stream",
     "text": [
      "0) 10000000000000000000000000000000000000000000000000000000000000000000000000000000000000000000000000000000000000000000000000000000000000000000000000000000000000000000000000000000000000000000000000000000000000000000000000000000000000000000000000000000000000000000000000000000000000000000000000000000000000000000000000000000000000000000000000000000000000000000000000000000000000000000000000000000000000000000000000000000000000000000000000000000000000000000000000000000000000000000000000000000000000000000000000000000000000000000000000000000000000000000000000000000000000000000000000000000000000000000000000000000000000000000000000000000000000000000000000000000000000000000000000000000000000000000000000000000000000000000000000000000000000000000000000000000000000000000000000000000000000000000000000000000000000000000000000000000000000000000000000000000000000000000000000000000000000000000000000000000000000000000000000000000000000000000000000000000000000000000000000000000000000000000000000000000000000000\n",
      "1) 1E-1000\n",
      "2) 1E-100\n",
      "3) 1.000000000000000000000000000E+1000\n",
      "4) 1E+1000\n"
     ]
    }
   ],
   "source": [
    "from decimal import Decimal\n",
    "\n",
    "print(f'0) {10**1000}')\n",
    "print(f'1) {Decimal(1.0)/Decimal(10**1000)}')\n",
    "print(f'2) {Decimal(1)/Decimal(10**100)}')\n",
    "print(f'3) {Decimal(10**1000)/Decimal(1)}')\n",
    "print(f'4) {Decimal(1)/(Decimal(1)/Decimal(10**1000))}')"
   ]
  },
  {
   "cell_type": "markdown",
   "id": "9f210258",
   "metadata": {},
   "source": [
    "How to avoid these behaviours to receive correct results in steps 1-4?\n",
    "\n",
    "It is enough to provide your thoughts / seach the web for decisions and share the links / point to specific constructions in Python which were constructed to solve this problem."
   ]
  },
  {
   "cell_type": "markdown",
   "id": "919172d7",
   "metadata": {},
   "source": [
    "I used library decimal, which allows calculations to be performed on a wider range."
   ]
  },
  {
   "cell_type": "markdown",
   "id": "e3347a19",
   "metadata": {},
   "source": [
    "#### Excersise 4.1\n",
    "\n",
    "Check if string is a correct integer\n"
   ]
  },
  {
   "cell_type": "code",
   "execution_count": 13,
   "id": "4737208f",
   "metadata": {},
   "outputs": [],
   "source": [
    "def check_if_str_int(s):\n",
    "  try:\n",
    "    int(s)\n",
    "    print('This string is correct integer')\n",
    "  except:\n",
    "    print('This string is NOT correct integer')"
   ]
  },
  {
   "cell_type": "markdown",
   "id": "b61deb44",
   "metadata": {},
   "source": [
    "#### Excersise 4.2\n",
    "\n",
    "Create a palindrom from given string. For example, \"abc\" -> \"abcba\""
   ]
  },
  {
   "cell_type": "code",
   "execution_count": 14,
   "id": "1a905cd3",
   "metadata": {},
   "outputs": [],
   "source": [
    "def palindrom(s):\n",
    "  return(s + s[-2::-1])"
   ]
  },
  {
   "cell_type": "markdown",
   "id": "3e34c1c0",
   "metadata": {},
   "source": [
    "#### Excersise 4.3\n",
    "\n",
    "User inputs one's name into \"name\" variable. One can use `lowercase`, `UPPERCASE`, or `sOmeTHingLikeThatCaSE`. You need to turn this string into regular case used with names: `Firstletterisbigothersaresmall`."
   ]
  },
  {
   "cell_type": "code",
   "execution_count": 15,
   "id": "71e6d969",
   "metadata": {},
   "outputs": [],
   "source": [
    "name1 = 'HellOIamUsER'\n",
    "name2 = 'johndeere'\n",
    "name3 = 'FIRSTNAMELASTNAME'\n",
    "\n",
    "def name(s):\n",
    "  return(s[0].upper() + s.lower()[1:])"
   ]
  },
  {
   "cell_type": "markdown",
   "id": "2d61b1a3",
   "metadata": {},
   "source": [
    "#### Excersise 4.4\n",
    "\n",
    "You have a string that consists of English letters and \".\", \",\", \"-\", \"!\", \"?\", \":\", \";\" symbols. Extract all words without punctuation from this string."
   ]
  },
  {
   "cell_type": "code",
   "execution_count": 16,
   "id": "53390936",
   "metadata": {},
   "outputs": [
    {
     "name": "stdout",
     "output_type": "stream",
     "text": [
      "!-,\n"
     ]
    }
   ],
   "source": [
    "#I am not sure, that I understood the task correctly. but I extract all letters (words) and left punctuation symbols\n",
    "def extract_letters(s):\n",
    "  res = ''\n",
    "  for i in range(len(s)):\n",
    "    if s[i].isalpha() == False:\n",
    "      res = res + s[i]\n",
    "  return res\n",
    "\n",
    "a = 'sdasd!fg-asdl,asd'\n",
    "print(extract_letters(a))"
   ]
  },
  {
   "cell_type": "markdown",
   "id": "9430b587",
   "metadata": {},
   "source": [
    "#### Excersise 4.5\n",
    "\n",
    "Assign string `\"\"\"'''\\/'''\"\"\"` to Python variable (all 14 symbols)\n"
   ]
  },
  {
   "cell_type": "code",
   "execution_count": 17,
   "id": "2850d0ca",
   "metadata": {},
   "outputs": [
    {
     "name": "stdout",
     "output_type": "stream",
     "text": [
      "\"\"\"'''\\/'''\"\"\"\n"
     ]
    }
   ],
   "source": [
    "var = u'\\u0022\\u0022\\u0022\\u0027\\u0027\\u0027\\u005C\\u002F\\u0027\\u0027\\u0027\\u0022\\u0022\\u0022'\n",
    "print(var)"
   ]
  },
  {
   "cell_type": "markdown",
   "id": "feeeefd7",
   "metadata": {},
   "source": [
    "#### Excersise 4.6\n",
    "\n",
    "Print pi number in a string  \"pi is approximately equal to ALMOSTPI\", where instead of ALMOSTPI you insert 22/7 with 3 digits after comma."
   ]
  },
  {
   "cell_type": "code",
   "execution_count": 18,
   "id": "79e075ab",
   "metadata": {},
   "outputs": [
    {
     "name": "stdout",
     "output_type": "stream",
     "text": [
      "pi is approximately equal to 3.143\n"
     ]
    }
   ],
   "source": [
    "ALMOSTPI = round(22/7, 3)\n",
    "s = f\"pi is approximately equal to {ALMOSTPI}\"\n",
    "print(s)"
   ]
  },
  {
   "cell_type": "markdown",
   "id": "4f20454c",
   "metadata": {},
   "source": [
    "#### Excersise 5\n",
    "\n",
    "You have multiline text inside string variable named `text`. Create list of lines from that text."
   ]
  },
  {
   "cell_type": "code",
   "execution_count": 19,
   "id": "200d2c24",
   "metadata": {},
   "outputs": [],
   "source": [
    "def list_lines(s):\n",
    "  return s.split(\"\\n\")"
   ]
  },
  {
   "cell_type": "markdown",
   "id": "285e74cc",
   "metadata": {},
   "source": [
    "#### Excersise 5\n",
    "Answer with your own words to one of the following questions. Your variant is based on your name and computed automatically in the next cell.\n",
    "\n",
    "Variant 1:\n",
    "Imagine, you are developing a vending machine. You need to keep your vending machine state: which items are presented on which shelves, how much money inside machine to give change, how much money user inserted in current time, which purchases users made etc. You need to create a data structure for that using known data types.\n",
    "\n",
    "Variant 2:\n",
    "Imagine, you are developing a messenger with direct messages, groups, different media types of messages, etc. You need to keep your messenger state in memory: all users with their data, which chats they have, etc. You need to create a data structure for that using known data types.\n",
    "\n",
    "Variant 3:\n",
    "Imagine, you are developing a staff management system for a mid-size corporation. You need to keep all organizational structure in memory: departments, employees, their personal data, positions, salaries, history of growth, who is whose boss, etc. You need to create a data structure for that using known data types."
   ]
  },
  {
   "cell_type": "code",
   "execution_count": 20,
   "id": "402ccf43",
   "metadata": {},
   "outputs": [
    {
     "name": "stdout",
     "output_type": "stream",
     "text": [
      "Your variant is 2\n"
     ]
    }
   ],
   "source": [
    "variant = hash(' '.join([first_name, last_name])) % 3 + 1\n",
    "print(f'Your variant is {variant}')"
   ]
  },
  {
   "cell_type": "markdown",
   "id": "50869744",
   "metadata": {},
   "source": [
    "I will do some tables, that will include all mentioned information with about employees with next columns types:\n",
    "* str(name, surname, email, links to different social media accounts and other \n",
    "contacts, etc.),\n",
    "*int (date, month and year of birth, date of start of work, salaries, other information, that could be expressed as integers),\n",
    "*float (ratings of employess and etc.),\n",
    "*list (list of skills of employees, education, achievements, etc.),\n",
    "*touple (list of previous work experience, etc.),\n",
    "*range (working hours),\n",
    "*bool (if employee belong to department or not, etc.) etc.\n",
    "\n",
    "Furthermore, there will be next data sets:\n",
    "\n",
    "*   dict(with information about boss and his/her subordinates)\n",
    "*   set(sets of different departments, bosses, position variants, etc.)"
   ]
  },
  {
   "cell_type": "markdown",
   "id": "f614834e",
   "metadata": {},
   "source": [
    "#### Excersise 6\n",
    "\n",
    "Clear your current repository (remove all useless files).\n",
    "Then create a package named `assignment01`.\n",
    "\n",
    "In the `assignment01` package you should have two `.py` files:\n",
    "\n",
    "```\n",
    "get_date.py\n",
    "get_time.py\n",
    "```\n",
    "File `get_date.py` contains only function `ding()` which returns the current date in format `yyyy-mm-dd`\n",
    "\n",
    "File `get_date.py` contains only function `dong()` which  returns the current time in 24h format `hh:mm:ss`\n",
    "\n",
    "Import these files and call the functions in the next cell."
   ]
  },
  {
   "cell_type": "code",
   "execution_count": 22,
   "id": "4fb3baa9",
   "metadata": {},
   "outputs": [],
   "source": [
    "from assignment1 import get_date\n",
    "from assignment1 import get_time"
   ]
  },
  {
   "cell_type": "code",
   "execution_count": 25,
   "id": "7772850b",
   "metadata": {},
   "outputs": [
    {
     "data": {
      "text/plain": [
       "'2021-11-16'"
      ]
     },
     "execution_count": 25,
     "metadata": {},
     "output_type": "execute_result"
    }
   ],
   "source": [
    "get_date.ding()"
   ]
  },
  {
   "cell_type": "code",
   "execution_count": 26,
   "id": "ee31e8f8",
   "metadata": {},
   "outputs": [
    {
     "data": {
      "text/plain": [
       "'21:49:55'"
      ]
     },
     "execution_count": 26,
     "metadata": {},
     "output_type": "execute_result"
    }
   ],
   "source": [
    "get_time.dong()"
   ]
  },
  {
   "cell_type": "markdown",
   "id": "f205a02f",
   "metadata": {},
   "source": [
    "#### Excersise 7\n",
    "\n",
    "Create the `.gitignore` file in the current repository and enshure git will ignore jupyter notebook checkpoints (hint: check the hidden directories) and python cache."
   ]
  },
  {
   "cell_type": "markdown",
   "id": "610af70e",
   "metadata": {},
   "source": [
    "The .gitignore file is in the directory /home/ml32020/kate/hw1."
   ]
  },
  {
   "cell_type": "markdown",
   "id": "91822f78",
   "metadata": {},
   "source": [
    "#### Excersise 8\n",
    "Create folder `shell_tools` in your repository.\n",
    "\n",
    "Solve the excersises from [this lesson](https://missing.csail.mit.edu/2020/shell-tools/) from the brilliant course by MIT: https://missing.csail.mit.edu\n",
    "\n",
    "Place your solutions in the `shell_tools` directory. It should contain one file for each step except step 2 (named `step0*`) with bash commands. Step 2 already requires you to write `marco` and `polo` scripts)."
   ]
  },
  {
   "cell_type": "markdown",
   "id": "dba2567b",
   "metadata": {},
   "source": [
    "1) solution in the file 8_1.sh (in directory home/ml32020/kate/hw1/shell_tools)"
   ]
  },
  {
   "cell_type": "markdown",
   "id": "743a39e1",
   "metadata": {},
   "source": [
    "2) solution in the files marco.sh and polo.sh plus some additional information for these function stored in file marco_polo.txt (in directory home/ml32020/kate/hw1/shell_tools)"
   ]
  },
  {
   "cell_type": "markdown",
   "id": "2c80226d",
   "metadata": {},
   "source": [
    "3) The function is in the file function_8_3.sh. The result of the function is in the file res_8_3.txt. And the solution is in the file 8_3.sh. (in directory home/ml32020/kate/hw1/shell_tools)"
   ]
  },
  {
   "cell_type": "markdown",
   "id": "4821ca70",
   "metadata": {},
   "source": [
    "4) The solution is in the file 8_4.sh. (in directory home/ml32020/kate/hw1/shell_tools). (Here got some problems with zip library, but on my local machine everything worked)"
   ]
  },
  {
   "cell_type": "markdown",
   "id": "a6d071b7",
   "metadata": {},
   "source": [
    "5) The solution is in the file 8_5.sh. The result of the function stored in the file res_8_5.txt. (in directory home/ml32020/kate/hw1/shell_tools)"
   ]
  },
  {
   "cell_type": "markdown",
   "id": "b2f4c3f6",
   "metadata": {},
   "source": [
    "#### Excersise 9\n",
    "\n",
    "Move this notebook to the repository directory (unless it is already there), commit and push all updates to the remote. Thes sync it to the local machine and check that this exact notebook runs (Kernel –> Restart and run all) without any changes."
   ]
  },
  {
   "cell_type": "code",
   "execution_count": 27,
   "id": "29a00cb1",
   "metadata": {},
   "outputs": [],
   "source": [
    "notebook_runs_on_local_machine_without_any_changes = True\n",
    "assert notebook_runs_on_local_machine_without_any_changes"
   ]
  },
  {
   "cell_type": "markdown",
   "id": "b8df4f51",
   "metadata": {},
   "source": [
    "### Sumbitting your home assignment\n",
    "Push your results to the remote repository and share the link to it in the Google Classroom.\n",
    "\n",
    "Congratulations!"
   ]
  }
 ],
 "metadata": {
  "kernelspec": {
   "display_name": "Python 3 (ipykernel)",
   "language": "python",
   "name": "python3"
  },
  "language_info": {
   "codemirror_mode": {
    "name": "ipython",
    "version": 3
   },
   "file_extension": ".py",
   "mimetype": "text/x-python",
   "name": "python",
   "nbconvert_exporter": "python",
   "pygments_lexer": "ipython3",
   "version": "3.9.5"
  }
 },
 "nbformat": 4,
 "nbformat_minor": 5
}
